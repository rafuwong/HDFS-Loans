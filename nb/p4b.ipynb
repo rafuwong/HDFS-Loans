{
 "cells": [
  {
   "cell_type": "markdown",
   "id": "cd40f6d5-eb97-4423-9947-a67b9b3a584f",
   "metadata": {},
   "source": [
    "# Part 4: Disaster Strikes"
   ]
  },
  {
   "cell_type": "code",
   "execution_count": 1,
   "id": "5e70b437-c9bf-4527-b0ab-01a69514ed51",
   "metadata": {},
   "outputs": [],
   "source": [
    "#Import statements\n",
    "import os\n",
    "import requests\n",
    "import json\n",
    "import pyarrow as pa\n",
    "import pyarrow.fs\n",
    "import io"
   ]
  },
  {
   "cell_type": "code",
   "execution_count": 2,
   "id": "95b611b2-5fa9-4214-9f63-8e57fd6ee92d",
   "metadata": {},
   "outputs": [
    {
     "name": "stdout",
     "output_type": "stream",
     "text": [
      "Configured Capacity: 25821052928 (24.05 GB)\n",
      "Present Capacity: 15784800256 (14.70 GB)\n",
      "DFS Remaining: 15526035456 (14.46 GB)\n",
      "DFS Used: 258764800 (246.78 MB)\n",
      "DFS Used%: 1.64%\n",
      "Replicated Blocks:\n",
      "\tUnder replicated blocks: 167\n",
      "\tBlocks with corrupt replicas: 0\n",
      "\tMissing blocks: 90\n",
      "\tMissing blocks (with replication factor 1): 90\n",
      "\tLow redundancy blocks with highest priority to recover: 167\n",
      "\tPending deletion blocks: 0\n",
      "Erasure Coded Block Groups: \n",
      "\tLow redundancy block groups: 0\n",
      "\tBlock groups with corrupt internal blocks: 0\n",
      "\tMissing block groups: 0\n",
      "\tLow redundancy blocks with highest priority to recover: 0\n",
      "\tPending deletion blocks: 0\n",
      "\n",
      "-------------------------------------------------\n",
      "Live datanodes (1):\n",
      "\n",
      "Name: 172.24.0.5:9866 (project-4-p4-rfwong07-dn-1.project-4-p4-rfwong07_default)\n",
      "Hostname: 661631f2ec8b\n",
      "Decommission Status : Normal\n",
      "Configured Capacity: 25821052928 (24.05 GB)\n",
      "DFS Used: 258764800 (246.78 MB)\n",
      "Non DFS Used: 10019475456 (9.33 GB)\n",
      "DFS Remaining: 15526035456 (14.46 GB)\n",
      "DFS Used%: 1.00%\n",
      "DFS Remaining%: 60.13%\n",
      "Configured Cache Capacity: 0 (0 B)\n",
      "Cache Used: 0 (0 B)\n",
      "Cache Remaining: 0 (0 B)\n",
      "Cache Used%: 100.00%\n",
      "Cache Remaining%: 0.00%\n",
      "Xceivers: 0\n",
      "Last contact: Sun Mar 17 16:22:57 GMT 2024\n",
      "Last Block Report: Sun Mar 17 14:53:09 GMT 2024\n",
      "Num of Blocks: 244\n",
      "\n",
      "\n",
      "Dead datanodes (1):\n",
      "\n",
      "Name: 172.24.0.2:9866 (172.24.0.2)\n",
      "Hostname: 4011abf154e0\n",
      "Decommission Status : Normal\n",
      "Configured Capacity: 25821052928 (24.05 GB)\n",
      "DFS Used: 271276941 (258.71 MB)\n",
      "Non DFS Used: 10012742771 (9.33 GB)\n",
      "DFS Remaining: 15520256000 (14.45 GB)\n",
      "DFS Used%: 1.05%\n",
      "DFS Remaining%: 60.11%\n",
      "Configured Cache Capacity: 0 (0 B)\n",
      "Cache Used: 0 (0 B)\n",
      "Cache Remaining: 0 (0 B)\n",
      "Cache Used%: 100.00%\n",
      "Cache Remaining%: 0.00%\n",
      "Xceivers: 0\n",
      "Last contact: Sat Mar 16 20:53:35 GMT 2024\n",
      "Last Block Report: Sat Mar 16 20:44:47 GMT 2024\n",
      "Num of Blocks: 0\n",
      "\n",
      "\n"
     ]
    }
   ],
   "source": [
    "#q8\n",
    "! hdfs dfsadmin -fs hdfs://boss:9000 -report"
   ]
  },
  {
   "cell_type": "code",
   "execution_count": 3,
   "id": "3c38c42a-c22d-42ec-9bba-2f56ec72e7ce",
   "metadata": {},
   "outputs": [
    {
     "data": {
      "text/plain": [
       "{'lost': 90, '661631f2ec8b': 77}"
      ]
     },
     "execution_count": 3,
     "metadata": {},
     "output_type": "execute_result"
    }
   ],
   "source": [
    "#q9\n",
    "namenode_url = \"http://boss:9870/webhdfs/v1/single.csv\"\n",
    "location_url = f\"{namenode_url}?op=GETFILEBLOCKLOCATIONS\" #Reference https://hadoop.apache.org/docs/r3.3.6/hadoop-project-dist/hadoop-hdfs/WebHDFS.html#Get_File_Block_Locations\n",
    "r = requests.get(location_url)\n",
    "block_location_dict = r.json()\n",
    "block_location_list = block_location_dict['BlockLocations']['BlockLocation']\n",
    "hosts_count_dict = {} #Initiate counting dictionary\n",
    "for item in block_location_list: #This loops through each item in the list and count up the \"hosts\" value\n",
    "    cntr_value = item['hosts']\n",
    "    if cntr_value == []: #When the list is empty up the count in the lost key\n",
    "        if 'lost' not in hosts_count_dict:\n",
    "            hosts_count_dict['lost'] = 1\n",
    "        else:\n",
    "            hosts_count_dict['lost'] += 1\n",
    "    elif cntr_value[0] not in hosts_count_dict:\n",
    "        hosts_count_dict[cntr_value[0]] = 1\n",
    "\n",
    "    else:\n",
    "        hosts_count_dict[cntr_value[0]] += 1\n",
    "hosts_count_dict"
   ]
  },
  {
   "cell_type": "code",
   "execution_count": 4,
   "id": "9446b19d-bbe7-480b-8c3c-59b1ce38db3b",
   "metadata": {},
   "outputs": [],
   "source": [
    "#This block of code is to find all the indexes (blocks) that will have a host or not.\n",
    "#Then separates them into their own list of indexes\n",
    "namenode_url = \"http://boss:9870/webhdfs/v1/single.csv\"\n",
    "location_url = f\"{namenode_url}?op=GETFILEBLOCKLOCATIONS\"\n",
    "r = requests.get(location_url)\n",
    "block_location_list = r.json()['BlockLocations']['BlockLocation']\n",
    "len_block_location_list = len(block_location_list)\n",
    "\n",
    "#Empty list to keep track of indexes (blocks)\n",
    "lost_list = []\n",
    "host_list = []\n",
    "\n",
    "#For loop for separating the indexes that will raise status code 403 or 200\n",
    "for idx in range(len_block_location_list):\n",
    "    cntr_val = block_location_list[idx]['hosts']\n",
    "    if cntr_val == []:\n",
    "        lost_list.append(idx)\n",
    "    else:\n",
    "        host_list.append(idx)\n",
    "\n"
   ]
  },
  {
   "cell_type": "code",
   "execution_count": 5,
   "id": "a413f0f6-9512-4da6-932d-2a95717b8892",
   "metadata": {},
   "outputs": [
    {
     "name": "stderr",
     "output_type": "stream",
     "text": [
      "2024-03-17 16:23:01,146 WARN util.NativeCodeLoader: Unable to load native-hadoop library for your platform... using builtin-java classes where applicable\n"
     ]
    },
    {
     "data": {
      "text/plain": [
       "205313"
      ]
     },
     "execution_count": 5,
     "metadata": {},
     "output_type": "execute_result"
    }
   ],
   "source": [
    "#q10\n",
    "namenode_url = \"http://boss:9870/webhdfs/v1/single.csv\"\n",
    "block_size = 1048576\n",
    "single_family_count = 0 # Counter for \"Single Family\" string\n",
    "for host_idx in host_list:\n",
    "    location_url = f\"{namenode_url}?op=OPEN&offset={block_size * host_idx}&noredirect=true\" #Create the url with ?op=GETFILESTATUS\n",
    "    r = requests.get(location_url)\n",
    "    #Condtional for Status Code == 200 though all indexes in host_list should be 200\n",
    "    #Because host_list created in last cell should only contain non 403 blocks.\n",
    "    if r.status_code == 200:\n",
    "        #print(r.json()['Location'])\n",
    "        hdfs = pa.fs.HadoopFileSystem(\"boss\", 9000)\n",
    "        with hdfs.open_input_file('/single.csv') as f:\n",
    "            string = str(f.read_at(block_size, block_size * host_idx), 'utf-8')\n",
    "            string_appear_count = string.count(\"Single Family\")\n",
    "            single_family_count += string_appear_count\n",
    "    else:\n",
    "        continue\n",
    "\n",
    "single_family_count"
   ]
  },
  {
   "cell_type": "code",
   "execution_count": null,
   "id": "faf51a4a-2d9b-4e7b-a302-187480f0db39",
   "metadata": {},
   "outputs": [],
   "source": []
  }
 ],
 "metadata": {
  "kernelspec": {
   "display_name": "Python 3 (ipykernel)",
   "language": "python",
   "name": "python3"
  },
  "language_info": {
   "codemirror_mode": {
    "name": "ipython",
    "version": 3
   },
   "file_extension": ".py",
   "mimetype": "text/x-python",
   "name": "python",
   "nbconvert_exporter": "python",
   "pygments_lexer": "ipython3",
   "version": "3.10.12"
  }
 },
 "nbformat": 4,
 "nbformat_minor": 5
}
